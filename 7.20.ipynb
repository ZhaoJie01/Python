{
 "cells": [
  {
   "cell_type": "markdown",
   "metadata": {},
   "source": [
    "# 函数\n",
    "\n",
    "- 函数可以用来定义可重复代码，组织和简化\n",
    "- 一般来说一个函数在实际开发中为一个小功能\n",
    "- 一个类为一个大功能\n",
    "- 同样函数的长度不要超过一屏"
   ]
  },
  {
   "cell_type": "markdown",
   "metadata": {},
   "source": [
    "Python中的所有函数实际上都是有返回值(return None),\n",
    "\n",
    "如果你没有设置return,那么Python将不显示None.\n",
    "\n",
    "如果你设置return,那么将返回出return这个值."
   ]
  },
  {
   "cell_type": "code",
   "execution_count": null,
   "metadata": {},
   "outputs": [],
   "source": [
    "def HJN():\n",
    "    print('Hello')\n",
    "    return 1000"
   ]
  },
  {
   "cell_type": "code",
   "execution_count": null,
   "metadata": {},
   "outputs": [],
   "source": [
    "b=HJN()\n",
    "print(b)"
   ]
  },
  {
   "cell_type": "code",
   "execution_count": null,
   "metadata": {},
   "outputs": [],
   "source": [
    "HJN"
   ]
  },
  {
   "cell_type": "code",
   "execution_count": null,
   "metadata": {},
   "outputs": [],
   "source": [
    "def panduan(number):\n",
    "    if number % 2 == 0:\n",
    "        print('O')\n",
    "    else:\n",
    "        print('J')"
   ]
  },
  {
   "cell_type": "code",
   "execution_count": null,
   "metadata": {},
   "outputs": [],
   "source": [
    "panduan(number=1)"
   ]
  },
  {
   "cell_type": "code",
   "execution_count": null,
   "metadata": {},
   "outputs": [],
   "source": [
    "panduan(2)"
   ]
  },
  {
   "cell_type": "markdown",
   "metadata": {},
   "source": [
    "## 定义一个函数\n",
    "\n",
    "def function_name(list of parameters):\n",
    "    \n",
    "    do something\n",
    "![](../Photo/69.png)\n",
    "- 以前使用的random 或者range 或者print.. 其实都是函数或者类"
   ]
  },
  {
   "cell_type": "markdown",
   "metadata": {},
   "source": [
    "函数的参数如果有默认值的情况,当你调用该函数的时候:\n",
    "可以不给予参数值,那么就会走该参数的默认值\n",
    "否则的话,就走你给予的参数值."
   ]
  },
  {
   "cell_type": "code",
   "execution_count": null,
   "metadata": {},
   "outputs": [],
   "source": [
    "import random"
   ]
  },
  {
   "cell_type": "code",
   "execution_count": null,
   "metadata": {},
   "outputs": [],
   "source": [
    "def hahah():\n",
    "    n = random.randint(0,5)\n",
    "    while 1:\n",
    "        N = eval(input('>>'))\n",
    "        if n == N:\n",
    "            print('smart')\n",
    "            break\n",
    "        elif n < N:\n",
    "            print('太小了')\n",
    "        elif n > N:\n",
    "            print('太大了')\n"
   ]
  },
  {
   "cell_type": "markdown",
   "metadata": {},
   "source": [
    "## 调用一个函数\n",
    "- functionName()\n",
    "- \"()\" 就代表调用"
   ]
  },
  {
   "cell_type": "code",
   "execution_count": null,
   "metadata": {},
   "outputs": [],
   "source": [
    "def H():\n",
    "    print('hahaha')"
   ]
  },
  {
   "cell_type": "code",
   "execution_count": null,
   "metadata": {},
   "outputs": [],
   "source": [
    "def B():\n",
    "    H()"
   ]
  },
  {
   "cell_type": "code",
   "execution_count": null,
   "metadata": {
    "scrolled": true
   },
   "outputs": [],
   "source": [
    "B()"
   ]
  },
  {
   "cell_type": "code",
   "execution_count": null,
   "metadata": {},
   "outputs": [],
   "source": [
    "def A(f):\n",
    "    f()"
   ]
  },
  {
   "cell_type": "code",
   "execution_count": null,
   "metadata": {},
   "outputs": [],
   "source": [
    "A(B)"
   ]
  },
  {
   "cell_type": "markdown",
   "metadata": {},
   "source": [
    "![](../Photo/70.png)"
   ]
  },
  {
   "cell_type": "markdown",
   "metadata": {},
   "source": [
    "## 带返回值和不带返回值的函数\n",
    "- return 返回的内容\n",
    "- return 返回多个值\n",
    "- 一般情况下，在多个函数协同完成一个功能的时候，那么将会有返回值"
   ]
  },
  {
   "cell_type": "markdown",
   "metadata": {},
   "source": [
    "![](../Photo/71.png)\n",
    "\n",
    "- 当然也可以自定义返回None"
   ]
  },
  {
   "cell_type": "markdown",
   "metadata": {},
   "source": [
    "## EP：\n",
    "![](../Photo/72.png)"
   ]
  },
  {
   "cell_type": "code",
   "execution_count": null,
   "metadata": {},
   "outputs": [],
   "source": [
    "def main():\n",
    "    print(min(min(5,6),(51,6)))\n",
    "def min(n1,n2):\n",
    "    a = n1\n",
    "    if n2 < a:\n",
    "        a = n2"
   ]
  },
  {
   "cell_type": "code",
   "execution_count": null,
   "metadata": {},
   "outputs": [],
   "source": [
    "main()"
   ]
  },
  {
   "cell_type": "markdown",
   "metadata": {},
   "source": [
    "## 类型和关键字参数\n",
    "- 普通参数\n",
    "- 多个参数\n",
    "- 默认值参数\n",
    "- 不定长参数"
   ]
  },
  {
   "cell_type": "markdown",
   "metadata": {},
   "source": [
    "## 普通参数"
   ]
  },
  {
   "cell_type": "markdown",
   "metadata": {},
   "source": [
    "## 多个参数"
   ]
  },
  {
   "cell_type": "markdown",
   "metadata": {},
   "source": [
    "## 默认值参数"
   ]
  },
  {
   "cell_type": "markdown",
   "metadata": {},
   "source": [
    "## 强制命名"
   ]
  },
  {
   "cell_type": "code",
   "execution_count": null,
   "metadata": {},
   "outputs": [],
   "source": [
    "def U(str_):\n",
    "    xiaoxie = 0\n",
    "    for i in str_:\n",
    "        ASCII = ord(i)\n",
    "        if 97<=ASCII<=122:\n",
    "            xiaoxie +=1\n",
    "        elif xxxx:\n",
    "            daxie += 1\n",
    "        elif xxxx:\n",
    "            shuzi += 1\n",
    "    return xiaoxie,daxie,shuzi"
   ]
  },
  {
   "cell_type": "code",
   "execution_count": null,
   "metadata": {},
   "outputs": [],
   "source": [
    "U('HJi12')"
   ]
  },
  {
   "cell_type": "markdown",
   "metadata": {},
   "source": [
    "## 不定长参数\n",
    "- \\*args\n",
    "> - 不定长，来多少装多少，不装也是可以的\n",
    "  - 返回的数据类型是元组\n",
    "  - args 名字是可以修改的，只是我们约定俗成的是args\n",
    "- \\**kwargs \n",
    "> - 返回的字典\n",
    "  - 输入的一定要是表达式（键值对）\n",
    "- name,\\*args,name2,\\**kwargs  使用参数名"
   ]
  },
  {
   "cell_type": "code",
   "execution_count": null,
   "metadata": {},
   "outputs": [],
   "source": [
    "def TT(a,b)"
   ]
  },
  {
   "cell_type": "code",
   "execution_count": null,
   "metadata": {},
   "outputs": [],
   "source": [
    "def TT(*args,**kwargs):\n",
    "    print(kwargs)\n",
    "    print(args)\n",
    "TT(1,2,3,4,6,a=100,b=1000)"
   ]
  },
  {
   "cell_type": "code",
   "execution_count": null,
   "metadata": {},
   "outputs": [],
   "source": [
    "{'key':'value'}"
   ]
  },
  {
   "cell_type": "code",
   "execution_count": null,
   "metadata": {
    "scrolled": true
   },
   "outputs": [],
   "source": [
    "TT(1,2,4,5,7,8,9,)"
   ]
  },
  {
   "cell_type": "code",
   "execution_count": null,
   "metadata": {},
   "outputs": [],
   "source": [
    "def B(name1,nam3):\n",
    "    pass"
   ]
  },
  {
   "cell_type": "code",
   "execution_count": null,
   "metadata": {},
   "outputs": [],
   "source": [
    "B(name1=100,2)"
   ]
  },
  {
   "cell_type": "code",
   "execution_count": null,
   "metadata": {},
   "outputs": [],
   "source": [
    "def sum_(*args,A='sum'):\n",
    "    \n",
    "    res = 0\n",
    "    count = 0\n",
    "    for i in args:\n",
    "        res +=i\n",
    "        count += 1\n",
    "    if A == \"sum\":\n",
    "        return res\n",
    "    elif A == \"mean\":\n",
    "        mean = res / count\n",
    "        return res,mean\n",
    "    else:\n",
    "        print(A,'还未开放')\n",
    "    \n",
    "    "
   ]
  },
  {
   "cell_type": "code",
   "execution_count": null,
   "metadata": {},
   "outputs": [],
   "source": [
    "sum_(-1,0,1,4,A='var')"
   ]
  },
  {
   "cell_type": "code",
   "execution_count": null,
   "metadata": {},
   "outputs": [],
   "source": [
    "'aHbK134'.__iter__"
   ]
  },
  {
   "cell_type": "code",
   "execution_count": null,
   "metadata": {},
   "outputs": [],
   "source": [
    "b = 'asdkjfh'\n",
    "for i in b :\n",
    "    print(i)"
   ]
  },
  {
   "cell_type": "code",
   "execution_count": null,
   "metadata": {},
   "outputs": [],
   "source": [
    "2,5\n",
    "2 + 22 + 222 + 2222 + 22222"
   ]
  },
  {
   "cell_type": "markdown",
   "metadata": {},
   "source": [
    "## 变量的作用域\n",
    "- 局部变量 local\n",
    "- 全局变量 global\n",
    "- globals 函数返回一个全局变量的字典，包括所有导入的变量\n",
    "- locals() 函数会以字典类型返回当前位置的全部局部变量。"
   ]
  },
  {
   "cell_type": "code",
   "execution_count": null,
   "metadata": {},
   "outputs": [],
   "source": [
    "a = 1000\n",
    "b = 10\n",
    "def Y():\n",
    "    global a,b\n",
    "    a += 100\n",
    "    print(a)\n",
    "Y()"
   ]
  },
  {
   "cell_type": "code",
   "execution_count": null,
   "metadata": {},
   "outputs": [],
   "source": [
    "def YY(a1):\n",
    "    a1 += 100\n",
    "    print(a1)\n",
    "YY(a)\n",
    "print(a)"
   ]
  },
  {
   "cell_type": "markdown",
   "metadata": {},
   "source": [
    "## 注意：\n",
    "- global ：在进行赋值操作的时候需要声明\n",
    "- 官方解释：This is because when you make an assignment to a variable in a scope, that variable becomes local to that scope and shadows any similarly named variable in the outer scope.\n",
    "- ![](../Photo/73.png)"
   ]
  },
  {
   "cell_type": "markdown",
   "metadata": {},
   "source": [
    "# Homework\n",
    "- 1\n",
    "![](../Photo/74.png)"
   ]
  },
  {
   "cell_type": "code",
   "execution_count": 25,
   "metadata": {},
   "outputs": [
    {
     "name": "stdout",
     "output_type": "stream",
     "text": [
      "1  5  12  22  35  51  70  92  117   \n",
      "145  176  210  247  287  330  376  425  477  532   \n",
      "590  651  715  782  852  925  1001  1080  1162  1247   \n",
      "1335  1426  1520  1617  1717  1820  1926  2035  2147  2262   \n",
      "2380  2501  2625  2752  2882  3015  3151  3290  3432  3577   \n",
      "3725  3876  4030  4187  4347  4510  4676  4845  5017  5192   \n",
      "5370  5551  5735  5922  6112  6305  6501  6700  6902  7107   \n",
      "7315  7526  7740  7957  8177  8400  8626  8855  9087  9322   \n",
      "9560  9801  10045  10292  10542  10795  11051  11310  11572  11837   \n",
      "12105  12376  12650  12927  13207  13490  13776  14065  14357  14652  "
     ]
    }
   ],
   "source": [
    "def getPentagonalNumber(n):\n",
    "        x = n * (3 * n - 1) / 2\n",
    "        if n % 10 == 0:\n",
    "            print(\" \")\n",
    "        print('%.f'%x,\" \",end='')\n",
    "for n in range(1,100):\n",
    "    getPentagonalNumber(n)"
   ]
  },
  {
   "cell_type": "markdown",
   "metadata": {},
   "source": [
    "- 2 \n",
    "![](../Photo/75.png)"
   ]
  },
  {
   "cell_type": "code",
   "execution_count": 24,
   "metadata": {},
   "outputs": [
    {
     "name": "stdout",
     "output_type": "stream",
     "text": [
      "请输入一个三位数：234\n",
      "9\n"
     ]
    }
   ],
   "source": [
    "def sumDigits(n):\n",
    "    sum = 0\n",
    "    while n // 1 != 0:\n",
    "        gewei = n % 10\n",
    "        sum = sum  + gewei\n",
    "        n = n // 10\n",
    "    print(sum)\n",
    "n = int(input(\"请输入一个三位数：\"))\n",
    "sumDigits(n)"
   ]
  },
  {
   "cell_type": "markdown",
   "metadata": {},
   "source": [
    "- 3\n",
    "![](../Photo/76.png)"
   ]
  },
  {
   "cell_type": "code",
   "execution_count": 23,
   "metadata": {},
   "outputs": [
    {
     "name": "stdout",
     "output_type": "stream",
     "text": [
      "请输入三个整数:3,4,5\n",
      "3 4 5\n"
     ]
    }
   ],
   "source": [
    "def displaySorrtedNumbers(num1,num2,num3):\n",
    "    t = 0\n",
    "    if num2 < num1:\n",
    "        t = num2\n",
    "        num2 = num1\n",
    "        num1 = t\n",
    "    if num3 < num1:\n",
    "        t = num3\n",
    "        num3 = num1\n",
    "        num1 = t\n",
    "    if num3 < num2:\n",
    "        t = num3\n",
    "        num3 = num2\n",
    "        num2 = t\n",
    "    print(num1,num2,num3)\n",
    "num1, num2, num3 = eval(input(\"请输入三个整数:\"))\n",
    "displaySorrtedNumbers(num1,num2,num3)"
   ]
  },
  {
   "cell_type": "markdown",
   "metadata": {},
   "source": [
    "- 4\n",
    "![](../Photo/77.png)"
   ]
  },
  {
   "cell_type": "code",
   "execution_count": 22,
   "metadata": {},
   "outputs": [
    {
     "name": "stdout",
     "output_type": "stream",
     "text": [
      "The amount invested：1000\n",
      "Annual interest rate：9\n",
      "30\n",
      "Years  Future Value\n",
      " 30       1090.00 \n",
      " 30       1188.10 \n",
      " 30       1295.03 \n",
      " 30       1411.58 \n",
      " 30       1538.62 \n",
      " 30       1677.10 \n",
      " 30       1828.04 \n",
      " 30       1992.56 \n",
      " 30       2171.89 \n",
      " 30       2367.36 \n",
      " 30       2580.43 \n",
      " 30       2812.66 \n",
      " 30       3065.80 \n",
      " 30       3341.73 \n",
      " 30       3642.48 \n",
      " 30       3970.31 \n",
      " 30       4327.63 \n",
      " 30       4717.12 \n",
      " 30       5141.66 \n",
      " 30       5604.41 \n",
      " 30       6108.81 \n",
      " 30       6658.60 \n",
      " 30       7257.87 \n",
      " 30       7911.08 \n",
      " 30       8623.08 \n",
      " 30       9399.16 \n",
      " 30       10245.08 \n",
      " 30       11167.14 \n",
      " 30       12172.18 \n",
      " 30       13267.68 \n",
      " 30       14461.77 \n"
     ]
    }
   ],
   "source": [
    "def futureInvestmentValue(investmentAmount,monthlyInterestRate,years):\n",
    "        for i in range(years + 1):\n",
    "                investmentAmount = investmentAmount + investmentAmount * monthlyInterestRate * 0.01\n",
    "                print(\" {}       {:.2f} \".format(years,investmentAmount))\n",
    "                \n",
    "investmentAmount = int(input(\"The amount invested：\"))\n",
    "monthlyInterestRate = int(input(\"Annual interest rate：\"))\n",
    "years = int(input())\n",
    "print(\"Years  Future Value\")\n",
    "futureInvestmentValue(investmentAmount, monthlyInterestRate, years)"
   ]
  },
  {
   "cell_type": "markdown",
   "metadata": {},
   "source": [
    "- 5\n",
    "![](../Photo/78.png)"
   ]
  },
  {
   "cell_type": "code",
   "execution_count": 2,
   "metadata": {},
   "outputs": [
    {
     "name": "stdout",
     "output_type": "stream",
     "text": [
      "1\n",
      "Z\n",
      "10\n",
      "23456789:;\n",
      "<=>?@ABCDE\n",
      "FGHIJKLMNO\n",
      "PQRSTUVWXY\n"
     ]
    }
   ],
   "source": [
    "def printChars(ch1,ch2,numberPerLine):\n",
    "    a = ord(ch2) - ord(ch1)\n",
    "    for i in range(a):\n",
    "        zf = ord(ch1) + i + 1\n",
    "        if i > 0 and i % numberPerLine == 0:\n",
    "            print('')\n",
    "        if i == a - 1:\n",
    "            break\n",
    "        print(chr(zf),end='')\n",
    "ch1 = input()\n",
    "ch2 = input()\n",
    "numberPerLine = int(input())\n",
    "printChars(ch1,ch2,numberPerLine)"
   ]
  },
  {
   "cell_type": "markdown",
   "metadata": {},
   "source": [
    "- 6\n",
    "![](../Photo/79.png)"
   ]
  },
  {
   "cell_type": "code",
   "execution_count": 21,
   "metadata": {},
   "outputs": [
    {
     "name": "stdout",
     "output_type": "stream",
     "text": [
      "2010\n",
      "2019\n",
      "2010 年 365 天\n",
      "2011 年 365 天\n",
      "2012 年 366 天\n",
      "2013 年 365 天\n",
      "2014 年 365 天\n",
      "2015 年 365 天\n",
      "2016 年 366 天\n",
      "2017 年 365 天\n",
      "2018 年 365 天\n",
      "2019 年 365 天\n"
     ]
    }
   ],
   "source": [
    "def numberOfDaysInAYera(year):\n",
    "    tian = 365\n",
    "    if (year % 4 ==0 and year % 100 !=0 ) or (year % 400 == 0):\n",
    "        tian = tian + 1\n",
    "    print(year,'年',tian,'天')\n",
    "n1 = int(input())\n",
    "n2 = int(input())\n",
    "for i in range(n1,n2 + 1):\n",
    "    numberOfDaysInAYera(i)"
   ]
  },
  {
   "cell_type": "markdown",
   "metadata": {},
   "source": [
    "- 7\n",
    "![](../Photo/80.png)"
   ]
  },
  {
   "cell_type": "code",
   "execution_count": 6,
   "metadata": {},
   "outputs": [
    {
     "name": "stdout",
     "output_type": "stream",
     "text": [
      "x1：0\n",
      "y1：0\n",
      "x2：3\n",
      "y2：4\n",
      "第三条边为：5.00\n"
     ]
    }
   ],
   "source": [
    "def distance(x1,y1,x2,y2):\n",
    "    c = ((x1 - x2) ** 2 + (y1 - y2) ** 2) ** 0.5\n",
    "    print(\"第三条边为：%.2f\"%c)\n",
    "x1 = int(input(\"x1：\"))\n",
    "y1 = int(input(\"y1：\"))\n",
    "x2 = int(input(\"x2：\"))\n",
    "y2 = int(input(\"y2：\"))\n",
    "distance(x1,y1,x2,y2)"
   ]
  },
  {
   "cell_type": "markdown",
   "metadata": {},
   "source": [
    "- 8\n",
    "![](../Photo/81.png)"
   ]
  },
  {
   "cell_type": "code",
   "execution_count": 20,
   "metadata": {},
   "outputs": [
    {
     "name": "stdout",
     "output_type": "stream",
     "text": [
      "31\n",
      "p    2^p - 1\n",
      "2       3\n",
      "3       7\n",
      "5       31\n"
     ]
    }
   ],
   "source": [
    "def msss(p):\n",
    "    a = 2 ** p - 1\n",
    "    if a <=n:\n",
    "        print(p,\"     \",a)\n",
    "n = int(input())\n",
    "sz = []\n",
    "for x in range(2,n - 1):\n",
    "    for y in range(2,x):\n",
    "        if x%y == 0:\n",
    "            break\n",
    "    else:\n",
    "        sz.append(x)\n",
    "        if x > n:\n",
    "            break\n",
    "print('p    2^p - 1')\n",
    "for i in sz:\n",
    "    msss(i)\n",
    "    if i >= 31:\n",
    "        break"
   ]
  },
  {
   "cell_type": "markdown",
   "metadata": {},
   "source": [
    "- 9\n",
    "![](../Photo/82.png)\n",
    "![](../Photo/83.png)"
   ]
  },
  {
   "cell_type": "code",
   "execution_count": 19,
   "metadata": {},
   "outputs": [
    {
     "name": "stdout",
     "output_type": "stream",
     "text": [
      "本地时间为 : Sun Aug  4 12:58:21 2019\n"
     ]
    }
   ],
   "source": [
    "import time\n",
    "def sj():\n",
    "    localtime = time.asctime(time.localtime(time.time()))\n",
    "    print(\"本地时间为 :\", localtime)\n",
    "sj()"
   ]
  },
  {
   "cell_type": "markdown",
   "metadata": {},
   "source": [
    "- 10\n",
    "![](../Photo/84.png)"
   ]
  },
  {
   "cell_type": "code",
   "execution_count": 27,
   "metadata": {},
   "outputs": [
    {
     "name": "stdout",
     "output_type": "stream",
     "text": [
      "You rolled 3 + 6 = 9\n",
      "point is  9\n",
      "You rolled 5 + 5 = 10\n",
      "point is  10\n",
      "You rolled 1 + 5 = 6\n",
      "point is  6\n",
      "You rolled 3 + 4 = 7\n",
      "you lose\n"
     ]
    }
   ],
   "source": [
    "import random\n",
    "a = random.randrange(1,7)\n",
    "b = random.randrange(1,7)\n",
    "c = 0\n",
    "d = 1\n",
    "'''\n",
    "    a，b为摇骰子后显示的值\n",
    "    c 为二者之和\n",
    "    d 为摇骰子的次数\n",
    "    e 为第一次摇骰子的和\n",
    "    sz()为第一次摇骰子的运行函数\n",
    "    cx()为进行第二次及以后摇骰子的运行函数\n",
    "'''\n",
    "def cx(a,b,c,d):\n",
    "    e = a + b\n",
    "    if c == e:\n",
    "        print(\"You rolled {} + {} = {}\".format(a,b,a+b))\n",
    "        print('you win')   \n",
    "    elif a + b == 7:\n",
    "        print(\"You rolled {} + {} = {}\".format(a,b,a+b))\n",
    "        print('you lose')\n",
    "    else :\n",
    "        print(\"You rolled {} + {} = {}\".format(a,b,a+b))\n",
    "        print('point is ',a+b)\n",
    "        a = random.randrange(1,7)\n",
    "        b = random.randrange(1,7)\n",
    "        cx(a,b,c,d)\n",
    "def sz(a,b,c,d):\n",
    "    if (a + b == 2) or (a + b == 3) or (a + b == 12):\n",
    "        print(\"You rolled {} + {} = {}\".format(a,b,a+b))\n",
    "        print('you lose')\n",
    "    elif (a + b == 7) or (a + b == 11):\n",
    "        print(\"You rolled {} + {} = {}\".format(a,b,a+b))\n",
    "        print('you win')\n",
    "    else:\n",
    "        c =  a + b\n",
    "        print(\"You rolled {} + {} = {}\".format(a,b,a+b))\n",
    "        print('point is ',c)\n",
    "        a = random.randrange(1,7)\n",
    "        b = random.randrange(1,7)\n",
    "        d = 2\n",
    "        cx(a,b,c,d)\n",
    "sz(a,b,c,d)"
   ]
  },
  {
   "cell_type": "markdown",
   "metadata": {},
   "source": [
    "- 11 \n",
    "### 去网上寻找如何用Python代码发送邮件"
   ]
  },
  {
   "cell_type": "code",
   "execution_count": null,
   "metadata": {},
   "outputs": [],
   "source": [
    "import smtplib\n",
    "from email.mime.text import MIMEText\n",
    "mailserver = \"smtp.qq.com\"  #邮箱服务器地址\n",
    "username_send = '1432467592@qq.com'  #邮箱用户名\n",
    "password = 'bazdwomdqmyjbafi'   #邮箱密码：需要使用授权码\n",
    "username_recv = '15049021283@163.com'  #收件人，多个收件人用逗号隔开\n",
    "mail = MIMEText('这是发用的邮件内容')\n",
    "mail['Subject'] = '这是邮件主题'\n",
    "mail['From'] = username_send  #发件人\n",
    "mail['To'] = username_recv  #收件人；[]里的三个是固定写法，别问为什么，我只是代码的搬运工\n",
    "smtp = smtplib.SMTP(mailserver,port=25) # 连接邮箱服务器，smtp的端口号是25\n",
    "# smtp=smtplib.SMTP_SSL('smtp.qq.com',port=465) #QQ邮箱的服务器和端口号\n",
    "smtp.login(username_send,password)  #登录邮箱\n",
    "smtp.sendmail(username_send,username_recv,mail.as_string())# 参数分别是发送者，接收者，第三个是把上面的发送邮件的内容变成字符串\n",
    "smtp.quit() # 发送完毕后退出smtp\n",
    "print ('success')"
   ]
  }
 ],
 "metadata": {
  "kernelspec": {
   "display_name": "Python 3",
   "language": "python",
   "name": "python3"
  },
  "language_info": {
   "codemirror_mode": {
    "name": "ipython",
    "version": 3
   },
   "file_extension": ".py",
   "mimetype": "text/x-python",
   "name": "python",
   "nbconvert_exporter": "python",
   "pygments_lexer": "ipython3",
   "version": "3.7.3"
  }
 },
 "nbformat": 4,
 "nbformat_minor": 2
}
